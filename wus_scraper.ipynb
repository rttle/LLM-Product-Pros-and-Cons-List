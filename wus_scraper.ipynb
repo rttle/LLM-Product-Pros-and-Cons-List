{
 "cells": [
  {
   "cell_type": "markdown",
   "metadata": {},
   "source": [
    "## Watch U Seek Review Scraper\n",
    "* Issue with initial attempts to scrape was the main post content (review), javascript was not loading with page load\n",
    "    * Used \"wait_until='domcontentloaded'\" to allow page to have the review rendered and scraped\n",
    "* Initially was trying to scrape with Selenium (unsuccessfully), switched to Playwright and found success\n",
    "    * Reason you see both is because I was able to successfully grab threads with Selenium\n",
    "    * Playwright used to get review from those threads\n",
    "* Successful run = 4.18 hours"
   ]
  },
  {
   "cell_type": "code",
   "execution_count": 1,
   "metadata": {},
   "outputs": [
    {
     "name": "stderr",
     "output_type": "stream",
     "text": [
      "/Users/Temp/Data4380/.venv/lib/python3.9/site-packages/urllib3/__init__.py:35: NotOpenSSLWarning: urllib3 v2 only supports OpenSSL 1.1.1+, currently the 'ssl' module is compiled with 'LibreSSL 2.8.3'. See: https://github.com/urllib3/urllib3/issues/3020\n",
      "  warnings.warn(\n"
     ]
    }
   ],
   "source": [
    "from selenium import webdriver\n",
    "from selenium.webdriver.chrome.options import Options\n",
    "from selenium.webdriver.common.by import By\n",
    "from playwright.async_api import async_playwright\n",
    "import csv\n",
    "import time"
   ]
  },
  {
   "cell_type": "markdown",
   "metadata": {},
   "source": [
    "#### Successfully grabbing review from a wus thread using Playwright"
   ]
  },
  {
   "cell_type": "code",
   "execution_count": 8,
   "metadata": {},
   "outputs": [
    {
     "name": "stdout",
     "output_type": "stream",
     "text": [
      "A new watch from Oceaneva with impressive 6000m WR was launched last week. Check my impressions..\n",
      "\n",
      "\n",
      "\n",
      "    \n",
      "        \n",
      "            https://www.cinciwatches.com/my-reviews-and-articles/2620466_diving-into-the-abyss-a-review-of-the-oceaneva-deep-marine-explorer-vi-6000m-diver-watch\n",
      "        \n",
      "    \n"
     ]
    }
   ],
   "source": [
    "async def run():\n",
    "    async with async_playwright() as p:\n",
    "        #different browser and context arguments to allow for headless\n",
    "        browser = await p.chromium.launch(headless=True,args=[\"--disable-blink-features=AutomationControlled\",\"--start-maximized\",])\n",
    "\n",
    "        context = await browser.new_context(user_agent=\"Mozilla/5.0 (Windows NT 10.0; Win64; x64) AppleWebKit/537.36 (KHTML, like Gecko) Chrome/114.0.0.0 Safari/537.36\",\n",
    "                                            viewport={\"width\": 1280, \"height\": 800},)\n",
    "\n",
    "        #browser = await p.chromium.launch(headless=False)\n",
    "        #context = await browser.new_context()\n",
    "        page = await context.new_page()\n",
    "\n",
    "        url = \"https://www.watchuseek.com/threads/a-review-of-a-new-oceaneva-deep-marine-explorer-vi.5635925/\"\n",
    "        await page.goto(url, timeout=60000, wait_until=\"domcontentloaded\")\n",
    "        await page.wait_for_timeout(3000)\n",
    "\n",
    "        #DOM access\n",
    "        content = await page.evaluate(\"\"\"\n",
    "        () => {\n",
    "            const el = document.querySelector(\"div.bbWrapper\");\n",
    "            return el ? el.innerText : \"NO REVIEW FOUND\";\n",
    "        }\n",
    "        \"\"\")\n",
    "\n",
    "        print(content)\n",
    "\n",
    "        await browser.close()\n",
    "\n",
    "await run()\n"
   ]
  },
  {
   "cell_type": "markdown",
   "metadata": {},
   "source": [
    "#### Finding Review Threads"
   ]
  },
  {
   "cell_type": "code",
   "execution_count": 2,
   "metadata": {},
   "outputs": [
    {
     "name": "stdout",
     "output_type": "stream",
     "text": [
      "\n",
      "Threads: 3501\n"
     ]
    }
   ],
   "source": [
    "options = Options()\n",
    "#options.add_argument(\"--headless=new\") #not working when running headless\n",
    "options.add_argument(\"--no-sandbox\")\n",
    "options.add_argument(\"--disable-dev-shm-usage\")\n",
    "driver = webdriver.Chrome(options=options)\n",
    "\n",
    "all_thread_urls = []\n",
    "\n",
    "#all reviews from first 100 pages\n",
    "for page_num in range(1, 101): \n",
    "    url = f\"https://www.watchuseek.com/forums/reviews.67/page-{page_num}?sorting=latest-activity\"\n",
    "    driver.get(url)\n",
    "    time.sleep(3)\n",
    "\n",
    "    threads = driver.find_elements(By.CSS_SELECTOR, \"h3.structItem-title > a\")\n",
    "    thread_urls = [t.get_attribute(\"href\") for t in threads if \"/threads/\" in t.get_attribute(\"href\")]\n",
    "    all_thread_urls.extend(thread_urls)\n",
    "\n",
    "driver.quit()\n",
    "\n",
    "#remove duplicates by making original list into a set then back into a list\n",
    "all_thread_urls = list(set(all_thread_urls))\n",
    "print(f\"\\nThreads: {len(all_thread_urls)}\")"
   ]
  },
  {
   "cell_type": "markdown",
   "metadata": {},
   "source": [
    "#### Scraping Reviews and saving to csv"
   ]
  },
  {
   "cell_type": "code",
   "execution_count": 5,
   "metadata": {},
   "outputs": [],
   "source": [
    "#function to grab review from thread\n",
    "async def scrape_review(url):\n",
    "    async with async_playwright() as p:\n",
    "        browser = await p.chromium.launch(headless=True,args=[\"--disable-blink-features=AutomationControlled\",\"--start-maximized\",])\n",
    "\n",
    "        context = await browser.new_context(user_agent=\"Mozilla/5.0 (Windows NT 10.0; Win64; x64) AppleWebKit/537.36 (KHTML, like Gecko) Chrome/114.0.0.0 Safari/537.36\",\n",
    "                                            viewport={\"width\": 1280, \"height\": 800},)\n",
    "        page = await context.new_page()\n",
    "        \n",
    "        await page.goto(url, timeout=60000, wait_until=\"domcontentloaded\")\n",
    "        await page.wait_for_timeout(3000)\n",
    "\n",
    "        review_text = await page.evaluate(\"\"\"\n",
    "        () => {\n",
    "            const el = document.querySelector(\"div.bbWrapper\");\n",
    "            return el ? el.innerText : null;\n",
    "        }\n",
    "        \"\"\")\n",
    "        \n",
    "        await browser.close()\n",
    "        return review_text\n",
    "\n",
    "reviews = []\n",
    "\n",
    "#going through collected urls to get\n",
    "for url in all_thread_urls:\n",
    "    try: #'try' so an error for one url does not cause stopping in middle\n",
    "        review = await scrape_review(url)\n",
    "        if review:\n",
    "            reviews.append({'url': url, 'review': review})\n",
    "        else:\n",
    "            continue #if unsuccessful, skip and continue\n",
    "    except Exception as e:\n",
    "        print(f\"Error scraping {url}: {e}\")\n",
    "\n",
    "#csv\n",
    "with open(\"watchuseek_reviews.csv\", \"w\", newline=\"\", encoding=\"utf-8\") as f:\n",
    "    writer = csv.DictWriter(f, fieldnames=[\"url\", \"review\"])\n",
    "    writer.writeheader()\n",
    "    writer.writerows(reviews)\n"
   ]
  },
  {
   "cell_type": "code",
   "execution_count": null,
   "metadata": {},
   "outputs": [],
   "source": []
  }
 ],
 "metadata": {
  "kernelspec": {
   "display_name": ".venv",
   "language": "python",
   "name": "python3"
  },
  "language_info": {
   "codemirror_mode": {
    "name": "ipython",
    "version": 3
   },
   "file_extension": ".py",
   "mimetype": "text/x-python",
   "name": "python",
   "nbconvert_exporter": "python",
   "pygments_lexer": "ipython3",
   "version": "3.9.6"
  }
 },
 "nbformat": 4,
 "nbformat_minor": 2
}
